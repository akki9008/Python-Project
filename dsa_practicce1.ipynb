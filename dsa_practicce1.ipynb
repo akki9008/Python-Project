{
 "cells": [
  {
   "cell_type": "code",
   "execution_count": 1,
   "id": "55f02cfd",
   "metadata": {},
   "outputs": [
    {
     "name": "stdout",
     "output_type": "stream",
     "text": [
      "[10, 2, 0, 30]\n"
     ]
    }
   ],
   "source": [
    "def remove_elements(input_list):\n",
    "    unique_elements = []\n",
    "    for item in input_list:\n",
    "        if item not in unique_elements:\n",
    "            unique_elements.append(item)\n",
    "    return unique_elements\n",
    "\n",
    "input_list = [10,2,0,30,10]\n",
    "print(remove_elements(input_list))"
   ]
  },
  {
   "cell_type": "code",
   "execution_count": 3,
   "id": "d1f7c84b",
   "metadata": {},
   "outputs": [
    {
     "name": "stdout",
     "output_type": "stream",
     "text": [
      "20\n"
     ]
    }
   ],
   "source": [
    "def second_largest_element(arr):\n",
    "    if len(arr) < 2:\n",
    "        return \"least two elements\"\n",
    "    unique_arr = list(set(arr))\n",
    "    res = unique_arr.sort(reverse  = True)\n",
    "    \n",
    "    if len(arr) > 2:\n",
    "        return unique_arr[1]\n",
    "    else:\n",
    "        return 'None'\n",
    "arr = [10,20,30]\n",
    "print(second_largest_element(arr))"
   ]
  },
  {
   "cell_type": "code",
   "execution_count": 1,
   "id": "9240c8fd",
   "metadata": {},
   "outputs": [
    {
     "name": "stdout",
     "output_type": "stream",
     "text": [
      "[4, 5, 5, 6, 7, 8]\n"
     ]
    }
   ],
   "source": [
    "def sorted_arr(arr):\n",
    "    length = len(arr)\n",
    "    for i in range(length -1):\n",
    "        minIndex = i\n",
    "        for j in range(i+1,length):\n",
    "            if arr[j] < arr[minIndex]:\n",
    "                minIndex = j\n",
    "        arr[i],arr[minIndex] = arr[minIndex] ,arr[i]\n",
    "    return arr\n",
    "\n",
    "arr = [5,4,5,6,7,8]\n",
    "print(sorted_arr(arr))\n",
    "    "
   ]
  },
  {
   "cell_type": "code",
   "execution_count": 13,
   "id": "6df808f9",
   "metadata": {},
   "outputs": [
    {
     "name": "stdout",
     "output_type": "stream",
     "text": [
      "[1, 3, 4, 5, 6, 12]\n"
     ]
    }
   ],
   "source": [
    "def BubbleSort(arr):\n",
    "    length = len(arr)\n",
    "    for i in range(length-1):\n",
    "        for j in range(length-1-i):\n",
    "            if arr[j] > arr[j+1]:\n",
    "                arr[j],arr[j+1] = arr[j+1],arr[j]\n",
    "    return arr\n",
    "\n",
    "arr = [6,1,4,5,12,3]\n",
    "print(BubbleSort(arr))"
   ]
  },
  {
   "cell_type": "code",
   "execution_count": 7,
   "id": "d5b129a2",
   "metadata": {},
   "outputs": [
    {
     "name": "stdout",
     "output_type": "stream",
     "text": [
      "75\n"
     ]
    }
   ],
   "source": [
    "a = 15\n",
    "b = 25\n",
    "for i in range(1,max(a,b)):\n",
    "    if a%i==b%i==0:\n",
    "        hcf = i\n",
    "        \n",
    "lcm = (a*b)//hcf\n",
    "print(lcm)"
   ]
  },
  {
   "cell_type": "code",
   "execution_count": 8,
   "id": "5ccba935",
   "metadata": {},
   "outputs": [
    {
     "name": "stdout",
     "output_type": "stream",
     "text": [
      "False\n"
     ]
    }
   ],
   "source": [
    "def isPallindrome(s):\n",
    "    import re\n",
    "    s = re.sub(r'[\\W_]','',s).lower()\n",
    "    left = 0\n",
    "    right = len(s) - 1\n",
    "    \n",
    "    while left < right:\n",
    "        if s[left] != s[right]:\n",
    "            return False\n",
    "        left += 1\n",
    "        right -= 1\n",
    "    return True\n",
    "\n",
    "s = 'race a car'\n",
    "print(isPallindrome(s))"
   ]
  },
  {
   "cell_type": "code",
   "execution_count": 10,
   "id": "0abd157f",
   "metadata": {},
   "outputs": [
    {
     "name": "stdout",
     "output_type": "stream",
     "text": [
      "bab\n"
     ]
    }
   ],
   "source": [
    "def longestPallindrome(s):\n",
    "    res = \"\"\n",
    "    for i in range(len(s)):\n",
    "        current  = expand_around_middle(s,i-1,i+1)\n",
    "        in_between = expand_around_middle(s,i,i+1)\n",
    "        res = max(res,current,in_between,key = len)\n",
    "    return res\n",
    "\n",
    "def expand_around_middle(s,left,right):\n",
    "    while left >= 0 and right < len(s) and s[left] == s[right]:\n",
    "        left -= 1\n",
    "        right += 1\n",
    "    return s[left+1:right]\n",
    "\n",
    "s = 'babad'\n",
    "print(longestPallindrome(s))"
   ]
  },
  {
   "cell_type": "code",
   "execution_count": 11,
   "id": "57f484e6",
   "metadata": {},
   "outputs": [
    {
     "name": "stdout",
     "output_type": "stream",
     "text": [
      "1\n"
     ]
    }
   ],
   "source": [
    "#longest_substring_without_repating_character\n",
    "\n",
    "def lengthOfLongestSubstring(s):\n",
    "    char_map = {}\n",
    "    max_length = 0\n",
    "    window_start = 0\n",
    "    \n",
    "    for i in range(len(s)):\n",
    "        end_char = s[i]\n",
    "        if end_char in char_map and char_map[end_char] >= window_start:\n",
    "            window_start = char_map[end_char] + 1\n",
    "        char_map[end_char] = i\n",
    "        \n",
    "        max_length = max(max_length,i-window_start+1)\n",
    "    return max_length\n",
    "\n",
    "s = 'bbbbb'\n",
    "print(lengthOfLongestSubstring(s))"
   ]
  },
  {
   "cell_type": "code",
   "execution_count": 13,
   "id": "bbec1924",
   "metadata": {},
   "outputs": [
    {
     "name": "stdout",
     "output_type": "stream",
     "text": [
      "[['eat', 'tea', 'ate'], ['bat']]\n"
     ]
    }
   ],
   "source": [
    "def groupAnargrams(s):\n",
    "    grouped = {}\n",
    "    for word in s:\n",
    "        key = ''.join(sorted(word))\n",
    "        \n",
    "        if key in grouped:\n",
    "            grouped[key].append(word)\n",
    "        else:\n",
    "            grouped[key] = [word]\n",
    "    return list(grouped.values())\n",
    "\n",
    "s = [\"eat\",\"tea\",\"ate\",\"bat\"]\n",
    "print(groupAnargrams(s))"
   ]
  },
  {
   "cell_type": "code",
   "execution_count": 14,
   "id": "dac34f30",
   "metadata": {},
   "outputs": [
    {
     "name": "stdout",
     "output_type": "stream",
     "text": [
      "True\n"
     ]
    }
   ],
   "source": [
    "def isalid(s):\n",
    "    stack = []\n",
    "    pairs_hash_map = {\"(\":\")\",\"{\":\"}\",\"[\":\"]\"}\n",
    "    \n",
    "    for char in s:\n",
    "        if char in pairs_hash_map:\n",
    "            stack.append(char)\n",
    "        elif len(stack) == 0 or pairs_hash_map[stack.pop()] != char:\n",
    "            return False\n",
    "    return len(stack) == 0\n",
    "\n",
    "s = \"()\"\n",
    "print(isalid(s))"
   ]
  },
  {
   "cell_type": "code",
   "execution_count": 1,
   "id": "24ce1a73",
   "metadata": {},
   "outputs": [
    {
     "ename": "SyntaxError",
     "evalue": "invalid syntax (355623436.py, line 9)",
     "output_type": "error",
     "traceback": [
      "\u001b[1;36m  File \u001b[1;32m\"C:\\Users\\Dell\\AppData\\Local\\Temp\\ipykernel_4160\\355623436.py\"\u001b[1;36m, line \u001b[1;32m9\u001b[0m\n\u001b[1;33m    retrun False\u001b[0m\n\u001b[1;37m           ^\u001b[0m\n\u001b[1;31mSyntaxError\u001b[0m\u001b[1;31m:\u001b[0m invalid syntax\n"
     ]
    }
   ],
   "source": [
    "def isValid(s):\n",
    "    stack = []\n",
    "    pairs_hash_map = {\"(\":\")\",\"{\":\"}\",\"[\":\"]\"}\n",
    "    \n",
    "    for char in s:\n",
    "        if char in pairs_hash_map:\n",
    "            stack.append(char)\n",
    "        elif len(stack) == 0 or pairs_hash_map[stack.pop()] != char:\n",
    "            retrun False\n",
    "    return len(stack) == 0\n",
    "\n"
   ]
  },
  {
   "cell_type": "code",
   "execution_count": 3,
   "id": "cfb3d121",
   "metadata": {},
   "outputs": [
    {
     "name": "stdout",
     "output_type": "stream",
     "text": [
      "5\n"
     ]
    }
   ],
   "source": [
    "def maxProfit(prices):\n",
    "    if not prices:\n",
    "        return 0\n",
    "    max_profit = 0\n",
    "    cheapest_price = prices[0]\n",
    "    for price in prices:\n",
    "        cheapest_price = min(price,cheapest_price)\n",
    "        current_profit = price - cheapest_price\n",
    "        max_profit = max(max_profit,current_profit)\n",
    "    return max_profit\n",
    "prices = [7,1,5,3,6,4]\n",
    "print(maxProfit(prices))"
   ]
  },
  {
   "cell_type": "code",
   "execution_count": 4,
   "id": "27b3a2e6",
   "metadata": {},
   "outputs": [
    {
     "name": "stdout",
     "output_type": "stream",
     "text": [
      "[24, 12, 8, 6]\n"
     ]
    }
   ],
   "source": [
    "#product of array except self\n",
    "\n",
    "def productExceptSelf(nums):\n",
    "    output = [1] * len(nums)\n",
    "    \n",
    "    cummalative_product = 1\n",
    "    \n",
    "    for i in range(len(nums)):\n",
    "        output[i] = output[i] * cummalative_product\n",
    "        cummalative_product = cummalative_product * nums[i]\n",
    "        \n",
    "    cummalative_product = 1\n",
    "    \n",
    "    for i in range(len(nums)-1,-1,-1):\n",
    "        output[i] = output[i] * cummalative_product\n",
    "        cummalative_product = cummalative_product * nums[i]\n",
    "    return output\n",
    "\n",
    "nums = [1,2,3,4]\n",
    "print(productExceptSelf(nums))"
   ]
  },
  {
   "cell_type": "code",
   "execution_count": 8,
   "id": "ad9f712c",
   "metadata": {},
   "outputs": [
    {
     "name": "stdout",
     "output_type": "stream",
     "text": [
      "[0, 1]\n"
     ]
    }
   ],
   "source": [
    "def twoSum(nums,target):\n",
    "    m = {}\n",
    "    for i,x in enumerate(nums):\n",
    "        y = target - x\n",
    "        if y in m:\n",
    "            return [m[y],i]\n",
    "        m[x] = i\n",
    "nums = [2,7,11,15]\n",
    "target = 9\n",
    "print(twoSum(nums,target))"
   ]
  },
  {
   "cell_type": "code",
   "execution_count": 1,
   "id": "76dd1d0d",
   "metadata": {},
   "outputs": [],
   "source": [
    "\n",
    "def reverse_list(head):\n",
    "    prev = None\n",
    "    curr = head\n",
    "    \n",
    "    while (curr != None):\n",
    "        tem_next = curr.next\n",
    "        curr.next = prev\n",
    "        prev = curr\n",
    "        curr = tem_next\n",
    "def printList(node):\n",
    "    while node is not None:\n",
    "        print(f\" {node.data} \",end = \"\")\n",
    "        node  = node.next\n",
    "    print()"
   ]
  },
  {
   "cell_type": "code",
   "execution_count": 11,
   "id": "385ed56b",
   "metadata": {},
   "outputs": [
    {
     "name": "stdout",
     "output_type": "stream",
     "text": [
      "Given linked list:  1  2  3  4  5  6 \n",
      "Rversed_line:  4  5  6 \n"
     ]
    }
   ],
   "source": [
    "#middle of the linked list\n",
    "#slow and fast pointer method\n",
    "#time complexity o(n)\n",
    "#space complexity o(1)\n",
    "class Node:\n",
    "    def __init__(self, new_data):\n",
    "        self.data = new_data\n",
    "        self.next = None\n",
    "def middleNode(head):\n",
    "    if (head==None or head.next == None):\n",
    "        return head\n",
    "    slow = head\n",
    "    fast = head\n",
    "    \n",
    "    while (fast!=None and fast.next!=None):\n",
    "        slow = slow.next\n",
    "        fast = fast.next.next\n",
    "    return slow\n",
    "def printList(node):\n",
    "    while node is not None:\n",
    "        print(f\" {node.data} \",end = \"\")\n",
    "        node  = node.next\n",
    "    print()\n",
    "\n",
    "print(\"Given linked list:\",end = \" \")\n",
    "printList(head)\n",
    "\n",
    "head = middleNode(head)\n",
    "print(\"Rversed_line:\",end = \" \")\n",
    "printList(head)\n",
    "        "
   ]
  },
  {
   "cell_type": "code",
   "execution_count": 9,
   "id": "a88ea464",
   "metadata": {},
   "outputs": [],
   "source": [
    "def middlenode(head):\n",
    "    if head == None:\n",
    "        return head\n",
    "    temp = head\n",
    "    count = 0\n",
    "    while (temp != None):\n",
    "        count += 1\n",
    "        temp = temp.next\n",
    "    middle_ele = count//2 + 1\n",
    "    temp = head\n",
    "    \n",
    "    i = 1\n",
    "    while(i < middle_ele):\n",
    "        temp = temp.next\n",
    "        i  =  i +1 \n",
    "    return temp\n",
    "\n",
    "\n",
    "        \n",
    "    "
   ]
  },
  {
   "cell_type": "code",
   "execution_count": 10,
   "id": "b5fc8fbc",
   "metadata": {},
   "outputs": [
    {
     "ename": "NameError",
     "evalue": "name 'Optional' is not defined",
     "output_type": "error",
     "traceback": [
      "\u001b[1;31m---------------------------------------------------------------------------\u001b[0m",
      "\u001b[1;31mNameError\u001b[0m                                 Traceback (most recent call last)",
      "\u001b[1;32m~\\AppData\\Local\\Temp\\ipykernel_15016\\3198623452.py\u001b[0m in \u001b[0;36m<module>\u001b[1;34m\u001b[0m\n\u001b[1;32m----> 1\u001b[1;33m \u001b[1;32mdef\u001b[0m \u001b[0mmergeTwoSortedLists\u001b[0m\u001b[1;33m(\u001b[0m\u001b[0mhead\u001b[0m\u001b[1;33m,\u001b[0m\u001b[0mlist1\u001b[0m\u001b[1;33m:\u001b[0m\u001b[0mOptional\u001b[0m\u001b[1;33m[\u001b[0m\u001b[0mListNode\u001b[0m\u001b[1;33m]\u001b[0m\u001b[1;33m,\u001b[0m\u001b[0mlist2\u001b[0m\u001b[1;33m:\u001b[0m\u001b[0mOptional\u001b[0m\u001b[1;33m[\u001b[0m\u001b[0mListNode\u001b[0m\u001b[1;33m]\u001b[0m\u001b[1;33m)\u001b[0m\u001b[1;33m:\u001b[0m\u001b[1;33m\u001b[0m\u001b[1;33m\u001b[0m\u001b[0m\n\u001b[0m\u001b[0;32m      2\u001b[0m     \u001b[0mprehead\u001b[0m \u001b[1;33m=\u001b[0m \u001b[0mListNode\u001b[0m\u001b[1;33m(\u001b[0m\u001b[1;33m-\u001b[0m\u001b[1;36m1\u001b[0m\u001b[1;33m)\u001b[0m\u001b[1;33m\u001b[0m\u001b[1;33m\u001b[0m\u001b[0m\n\u001b[0;32m      3\u001b[0m     \u001b[0mcurr\u001b[0m \u001b[1;33m=\u001b[0m \u001b[0mprehead\u001b[0m\u001b[1;33m\u001b[0m\u001b[1;33m\u001b[0m\u001b[0m\n\u001b[0;32m      4\u001b[0m \u001b[1;33m\u001b[0m\u001b[0m\n\u001b[0;32m      5\u001b[0m     \u001b[1;32mwhile\u001b[0m \u001b[0mlist1\u001b[0m \u001b[1;33m!=\u001b[0m \u001b[1;32mNone\u001b[0m \u001b[1;32mand\u001b[0m \u001b[0mlist2\u001b[0m \u001b[1;33m!=\u001b[0m \u001b[1;32mNone\u001b[0m\u001b[1;33m:\u001b[0m\u001b[1;33m\u001b[0m\u001b[1;33m\u001b[0m\u001b[0m\n",
      "\u001b[1;31mNameError\u001b[0m: name 'Optional' is not defined"
     ]
    }
   ],
   "source": [
    "def mergeTwoSortedLists(head,list1:Optional[ListNode],list2:Optional[ListNode]):\n",
    "    prehead = ListNode(-1)\n",
    "    curr = prehead\n",
    "    \n",
    "    while list1 != None and list2 != None:\n",
    "        if list1.val < list2.val:\n",
    "            curr.next = list1\n",
    "            list1 = list1.next\n",
    "        else:\n",
    "            curr.next = list2\n",
    "            list2 = list2.next\n",
    "        curr = curr.next\n",
    "    if list1!=None:\n",
    "        curr.next = list1\n",
    "    else:\n",
    "        curr.next = list2\n",
    "    \n",
    "    return prehead.next"
   ]
  },
  {
   "cell_type": "code",
   "execution_count": 1,
   "id": "813d0bb6",
   "metadata": {},
   "outputs": [
    {
     "ename": "NameError",
     "evalue": "name 'Optional' is not defined",
     "output_type": "error",
     "traceback": [
      "\u001b[1;31m---------------------------------------------------------------------------\u001b[0m",
      "\u001b[1;31mNameError\u001b[0m                                 Traceback (most recent call last)",
      "\u001b[1;32m~\\AppData\\Local\\Temp\\ipykernel_6968\\2271081311.py\u001b[0m in \u001b[0;36m<module>\u001b[1;34m\u001b[0m\n\u001b[0;32m      1\u001b[0m \u001b[1;31m#mergetwolinked list recursively\u001b[0m\u001b[1;33m\u001b[0m\u001b[1;33m\u001b[0m\u001b[0m\n\u001b[1;32m----> 2\u001b[1;33m \u001b[1;32mclass\u001b[0m \u001b[0mSolutions\u001b[0m\u001b[1;33m:\u001b[0m\u001b[1;33m\u001b[0m\u001b[1;33m\u001b[0m\u001b[0m\n\u001b[0m\u001b[0;32m      3\u001b[0m     \u001b[1;32mdef\u001b[0m \u001b[0mmergeTwoLists\u001b[0m\u001b[1;33m(\u001b[0m\u001b[0mhead\u001b[0m\u001b[1;33m,\u001b[0m\u001b[0mlist1\u001b[0m\u001b[1;33m:\u001b[0m\u001b[0mOptional\u001b[0m\u001b[1;33m[\u001b[0m\u001b[0mListNode\u001b[0m\u001b[1;33m]\u001b[0m\u001b[1;33m,\u001b[0m\u001b[0mlist2\u001b[0m\u001b[1;33m:\u001b[0m\u001b[0mOptional\u001b[0m\u001b[1;33m[\u001b[0m\u001b[0mListNode\u001b[0m\u001b[1;33m]\u001b[0m\u001b[1;33m)\u001b[0m\u001b[1;33m:\u001b[0m\u001b[1;33m\u001b[0m\u001b[1;33m\u001b[0m\u001b[0m\n\u001b[0;32m      4\u001b[0m         \u001b[1;32mif\u001b[0m \u001b[0mlist1\u001b[0m \u001b[1;33m==\u001b[0m \u001b[1;32mNone\u001b[0m\u001b[1;33m:\u001b[0m\u001b[1;33m\u001b[0m\u001b[1;33m\u001b[0m\u001b[0m\n\u001b[0;32m      5\u001b[0m             \u001b[1;32mreturn\u001b[0m \u001b[0mlist2\u001b[0m\u001b[1;33m\u001b[0m\u001b[1;33m\u001b[0m\u001b[0m\n",
      "\u001b[1;32m~\\AppData\\Local\\Temp\\ipykernel_6968\\2271081311.py\u001b[0m in \u001b[0;36mSolutions\u001b[1;34m()\u001b[0m\n\u001b[0;32m      1\u001b[0m \u001b[1;31m#mergetwolinked list recursively\u001b[0m\u001b[1;33m\u001b[0m\u001b[1;33m\u001b[0m\u001b[0m\n\u001b[0;32m      2\u001b[0m \u001b[1;32mclass\u001b[0m \u001b[0mSolutions\u001b[0m\u001b[1;33m:\u001b[0m\u001b[1;33m\u001b[0m\u001b[1;33m\u001b[0m\u001b[0m\n\u001b[1;32m----> 3\u001b[1;33m     \u001b[1;32mdef\u001b[0m \u001b[0mmergeTwoLists\u001b[0m\u001b[1;33m(\u001b[0m\u001b[0mhead\u001b[0m\u001b[1;33m,\u001b[0m\u001b[0mlist1\u001b[0m\u001b[1;33m:\u001b[0m\u001b[0mOptional\u001b[0m\u001b[1;33m[\u001b[0m\u001b[0mListNode\u001b[0m\u001b[1;33m]\u001b[0m\u001b[1;33m,\u001b[0m\u001b[0mlist2\u001b[0m\u001b[1;33m:\u001b[0m\u001b[0mOptional\u001b[0m\u001b[1;33m[\u001b[0m\u001b[0mListNode\u001b[0m\u001b[1;33m]\u001b[0m\u001b[1;33m)\u001b[0m\u001b[1;33m:\u001b[0m\u001b[1;33m\u001b[0m\u001b[1;33m\u001b[0m\u001b[0m\n\u001b[0m\u001b[0;32m      4\u001b[0m         \u001b[1;32mif\u001b[0m \u001b[0mlist1\u001b[0m \u001b[1;33m==\u001b[0m \u001b[1;32mNone\u001b[0m\u001b[1;33m:\u001b[0m\u001b[1;33m\u001b[0m\u001b[1;33m\u001b[0m\u001b[0m\n\u001b[0;32m      5\u001b[0m             \u001b[1;32mreturn\u001b[0m \u001b[0mlist2\u001b[0m\u001b[1;33m\u001b[0m\u001b[1;33m\u001b[0m\u001b[0m\n",
      "\u001b[1;31mNameError\u001b[0m: name 'Optional' is not defined"
     ]
    }
   ],
   "source": [
    "#mergetwolinked list recursively\n",
    "class Solutions:\n",
    "    def mergeTwoLists(head,list1:Optional[ListNode],list2:Optional[ListNode]):\n",
    "        if list1 == None:\n",
    "            return list2\n",
    "        if list2 == None:\n",
    "            return list1\n",
    "        elif list1.val < list2.val:\n",
    "            list1.next = self.mergeTwoLists(list1.next,list2)\n",
    "            return list1\n",
    "        else:\n",
    "            list2.next = self.mergeTwoLists(list1,list2.next)\n",
    "            return list2\n",
    "            "
   ]
  },
  {
   "cell_type": "code",
   "execution_count": 11,
   "id": "cd81f4dc",
   "metadata": {},
   "outputs": [
    {
     "name": "stdout",
     "output_type": "stream",
     "text": [
      "[1, 2, 3, 4, 6, 7, 8, 9, 10]\n"
     ]
    }
   ],
   "source": [
    "def mergeSortedArrays(arr1,arr2):\n",
    "    i = 0\n",
    "    j = 0\n",
    "    len1 = len(arr1)\n",
    "    len2 = len(arr2)\n",
    "    \n",
    "    arr = []\n",
    "    \n",
    "    while (i < len1) and (j < len2):\n",
    "        if (arr1[i] < arr2[j]):\n",
    "            arr.append(arr1[i])\n",
    "            i = i + 1\n",
    "        else:\n",
    "            arr.append(arr2[j])\n",
    "            j = j + 1\n",
    "    while (i < len1):\n",
    "        arr.append(arr1[i])\n",
    "        i = i + 1\n",
    "    while (j < len2):\n",
    "        arr.append(arr2[j])\n",
    "        j = j + 1\n",
    "    return arr\n",
    "arr1 = [1,4,9,10]\n",
    "arr2 = [2,3,6,7,8]\n",
    "arr = mergeSortedArrays(arr1,arr2)\n",
    "print(arr)"
   ]
  },
  {
   "cell_type": "code",
   "execution_count": 12,
   "id": "464dfcec",
   "metadata": {},
   "outputs": [
    {
     "name": "stdout",
     "output_type": "stream",
     "text": [
      "[5, 4, 2, 1]\n"
     ]
    }
   ],
   "source": [
    "def reverse(l):\n",
    "    length  = len(l)\n",
    "    for i in range(length//2):\n",
    "        l[i],l[length-i-1] = l[length-i-1],l[i]\n",
    "l = [1,2,4,5]\n",
    "reverse(l)\n",
    "print(l)"
   ]
  },
  {
   "cell_type": "code",
   "execution_count": 2,
   "id": "d2396bdc",
   "metadata": {},
   "outputs": [
    {
     "ename": "IndentationError",
     "evalue": "unexpected indent (536997693.py, line 14)",
     "output_type": "error",
     "traceback": [
      "\u001b[1;36m  File \u001b[1;32m\"C:\\Users\\Dell\\AppData\\Local\\Temp\\ipykernel_6968\\536997693.py\"\u001b[1;36m, line \u001b[1;32m14\u001b[0m\n\u001b[1;33m    i = i + 1\u001b[0m\n\u001b[1;37m    ^\u001b[0m\n\u001b[1;31mIndentationError\u001b[0m\u001b[1;31m:\u001b[0m unexpected indent\n"
     ]
    }
   ],
   "source": [
    "#removenthfrom end \n",
    "#use slow and fast pointer method\n",
    "\n",
    "def removeLastNthnode(head,n):\n",
    "    dummy = ListNode(-1)\n",
    "    dummy.next = head\n",
    "    fast = dummy\n",
    "    slow = dummy\n",
    "    \n",
    "    i = 1\n",
    "    \n",
    "    while (i <= n):\n",
    "        fast = fast.next\n",
    "         i = i + 1\n",
    "    while (fast.next != None):\n",
    "        fast = fast.next\n",
    "        slow  = slow.next\n",
    "    slow.next = slow.next.next\n",
    "    return dummy.next"
   ]
  },
  {
   "cell_type": "code",
   "execution_count": 1,
   "id": "3dd3dc2d",
   "metadata": {},
   "outputs": [
    {
     "name": "stdout",
     "output_type": "stream",
     "text": [
      "4\n"
     ]
    }
   ],
   "source": [
    "#single number\n",
    "#xor methodldolgy solutions\n",
    "def singleNumber(nums):\n",
    "    result = 0\n",
    "    for num in nums:\n",
    "        result = result ^ num\n",
    "    return result\n",
    "nums = [4,1,2,1,2]\n",
    "print(singleNumber(nums))"
   ]
  },
  {
   "cell_type": "code",
   "execution_count": 6,
   "id": "636a8108",
   "metadata": {},
   "outputs": [
    {
     "name": "stdout",
     "output_type": "stream",
     "text": [
      "4\n"
     ]
    }
   ],
   "source": [
    "#hash table methodlogy\n",
    "from collections import defaultdict\n",
    "def singleNumber(nums):\n",
    "    hash_table = defaultdict(int)\n",
    "    for num in nums:\n",
    "        hash_table[num] = hash_table[num] + 1\n",
    "        \n",
    "    for num in nums:\n",
    "        if hash_table[num] == 1:\n",
    "            return num\n",
    "nums = [4,1,2,1,2]\n",
    "print(singleNumber(nums))"
   ]
  },
  {
   "cell_type": "code",
   "execution_count": 9,
   "id": "29c419b3",
   "metadata": {},
   "outputs": [
    {
     "name": "stdout",
     "output_type": "stream",
     "text": [
      "[4, 5, 6, 7, 1, 2, 3]\n"
     ]
    }
   ],
   "source": [
    "#rotate array \n",
    "# complexity o(n)\n",
    "\n",
    "class Solutions:\n",
    "    def reverse(self,nums,start,end):\n",
    "        while start < end:\n",
    "            nums[start] , nums[end] = nums[end] ,nums[start]\n",
    "            start = start + 1\n",
    "            end = end - 1\n",
    "    def rotate(self,nums,k):\n",
    "        size = len(nums)\n",
    "        k = k % size\n",
    "        self.reverse(nums,0,size-1)\n",
    "        self.reverse(nums,0,k-1)\n",
    "        self.reverse(nums,k,size-1)\n",
    "        \n",
    "nums = [1,2,3,4,5,6,7]\n",
    "k = 4\n",
    "solution = Solutions()\n",
    "solution.rotate(nums,k)\n",
    "print(nums)"
   ]
  },
  {
   "cell_type": "code",
   "execution_count": 11,
   "id": "6c1d45bc",
   "metadata": {},
   "outputs": [
    {
     "name": "stdout",
     "output_type": "stream",
     "text": [
      "4\n"
     ]
    }
   ],
   "source": [
    "#max consequtive one\n",
    "#time complexity o(n)\n",
    "\n",
    "def maxConsequtiveOnes(nums):\n",
    "    max_count = 0\n",
    "    count = 0\n",
    "    for num in nums:\n",
    "        if num == 1:\n",
    "            count = count + 1\n",
    "        else:\n",
    "            count = 0\n",
    "        if count > max_count:\n",
    "            max_count = count\n",
    "    return max_count\n",
    "\n",
    "nums = [1,1,0,1,1,1,0,1,1,1,1]\n",
    "print(maxConsequtiveOnes(nums))\n",
    "    "
   ]
  },
  {
   "cell_type": "code",
   "execution_count": 12,
   "id": "62d4b3b2",
   "metadata": {},
   "outputs": [
    {
     "name": "stdout",
     "output_type": "stream",
     "text": [
      "2\n"
     ]
    }
   ],
   "source": [
    "def max_con(nums):\n",
    "    max_count = 0\n",
    "    count = 0\n",
    "    \n",
    "    for num in nums:\n",
    "        if num == 1:\n",
    "            count += 1\n",
    "        else:\n",
    "            count = 0\n",
    "        if count > max_count:\n",
    "            max_count = count\n",
    "    return max_count\n",
    "nums = [1,1]\n",
    "print(max_con(nums))"
   ]
  },
  {
   "cell_type": "code",
   "execution_count": 9,
   "id": "cfaaa2b3",
   "metadata": {},
   "outputs": [],
   "source": [
    "class Solutions:\n",
    "    def zeroesAndOnes(self,nums : list) -> None:\n",
    "        size = len(nums)\n",
    "        first  = 0\n",
    "        second = size - 1\n",
    "        while first < second:\n",
    "            if nums[first]==0:\n",
    "                first = first  +  1\n",
    "            elif nums[second] == 1:\n",
    "                second = second - 1\n",
    "            else:\n",
    "                nums[first],nums[second] = nums[second],nums[first]\n",
    "                first += 1\n",
    "                second -= 1\n",
    "        print(nums)"
   ]
  },
  {
   "cell_type": "code",
   "execution_count": 8,
   "id": "8e0704fa",
   "metadata": {},
   "outputs": [
    {
     "name": "stdout",
     "output_type": "stream",
     "text": [
      "[0, 0, 0, 1, 1, 1]\n",
      "None\n"
     ]
    }
   ],
   "source": [
    "def zeroOnes(nums):\n",
    "    size  = len(nums)\n",
    "    first = 0\n",
    "    second = size - 1\n",
    "    while first < second:\n",
    "        if nums[first] == 0:\n",
    "            first += 1\n",
    "        elif nums[second] == 1:\n",
    "            second -= 1\n",
    "        else:\n",
    "            nums[first],nums[second] = nums[second],nums[first]\n",
    "            first += 1\n",
    "            second -= 1\n",
    "    print(nums)\n",
    "nums = [0,1,0,1,1,0]\n",
    "print(zeroOnes(nums))"
   ]
  },
  {
   "cell_type": "code",
   "execution_count": 10,
   "id": "4d7bf177",
   "metadata": {},
   "outputs": [
    {
     "name": "stdout",
     "output_type": "stream",
     "text": [
      "[0, 0, 0, 1, 1, 1]\n"
     ]
    }
   ],
   "source": [
    "s = Solutions()\n",
    "s.zeroesAndOnes([0, 1, 0, 1, 1, 0])"
   ]
  },
  {
   "cell_type": "code",
   "execution_count": 7,
   "id": "c4761dd8",
   "metadata": {},
   "outputs": [
    {
     "name": "stdout",
     "output_type": "stream",
     "text": [
      "5\n"
     ]
    }
   ],
   "source": [
    "def maxSumArrays(nums):\n",
    "    sum = 0\n",
    "    maxsum  = nums[0]\n",
    "    \n",
    "    for num in nums:\n",
    "        if sum < 0:\n",
    "            sum = 0\n",
    "        sum = sum + num\n",
    "        if sum > maxsum:\n",
    "            maxsum = sum\n",
    "    return maxsum\n",
    "nums = [-2,1,-3,4,-1,2]\n",
    "print(maxSumArrays(nums))"
   ]
  },
  {
   "cell_type": "code",
   "execution_count": null,
   "id": "6dc4e3ff",
   "metadata": {},
   "outputs": [],
   "source": [
    "def BinarySearch(arr, target):\n",
    "    start = 0\n",
    "    end = len(arr) - 1\n",
    "    \n",
    "    while start <= end:\n",
    "        mid = (start + end) // 2\n",
    "        if arr[mid] == target:\n",
    "            return mid\n",
    "        elif arr[mid] < target:\n",
    "            start = mid + 1\n",
    "        else:\n",
    "            end = mid - 1\n",
    "    \n",
    "    return -1\n",
    "\n",
    "# Example usage\n",
    "arr = [1, 3, 7, 18, 20, 21, 27, 31]\n",
    "index = BinarySearch(arr, 9)\n",
    "print(index)  # Output should be -1 as 9 is not in the list\n"
   ]
  },
  {
   "cell_type": "code",
   "execution_count": 13,
   "id": "542b18b4",
   "metadata": {},
   "outputs": [
    {
     "name": "stdout",
     "output_type": "stream",
     "text": [
      "3\n"
     ]
    }
   ],
   "source": [
    "def BinarySearch(arr,target):\n",
    "    start = 0\n",
    "    end = len(arr) - 1\n",
    "    while start <= end:\n",
    "            mid = (start + end) // 2\n",
    "            if arr[mid] == target:\n",
    "                return mid\n",
    "            elif arr[mid] < target:\n",
    "                start = mid  +  1\n",
    "            else:\n",
    "                end = mid - 1\n",
    "    return -1\n",
    "\n",
    "arr = [1, 3, 7, 18, 20, 21, 27, 31]\n",
    "index = BinarySearch(arr,18)\n",
    "print(index)"
   ]
  },
  {
   "cell_type": "code",
   "execution_count": 1,
   "id": "ebb412be",
   "metadata": {},
   "outputs": [],
   "source": [
    "class Solution:\n",
    "    def removeDuplicates(self, nums):\n",
    "        n = len(nums)\n",
    "        return n - len([nums.pop(i) for i in range(n -1, 0, -1) if nums[i] == nums[i - 1]])"
   ]
  },
  {
   "cell_type": "code",
   "execution_count": 4,
   "id": "e5ef2e1b",
   "metadata": {},
   "outputs": [],
   "source": [
    "#search in roated sorted array\n",
    "class Solution:\n",
    "    def search(self, nums, target):\n",
    "        l, r = 0, len(nums) - 1\n",
    "        while l <= r:\n",
    "            mid = (l + r) // 2\n",
    "            if nums[mid] == target: \n",
    "                return mid\n",
    "            elif sum((target < nums[l], nums[l] <= nums[mid], nums[mid] < target)) == 2: \n",
    "                l = mid + 1\n",
    "            else: \n",
    "                r = mid - 1\n",
    "        return -1"
   ]
  },
  {
   "cell_type": "code",
   "execution_count": 5,
   "id": "909c0565",
   "metadata": {},
   "outputs": [],
   "source": [
    "#water trap"
   ]
  },
  {
   "cell_type": "code",
   "execution_count": 2,
   "id": "478f0a42",
   "metadata": {},
   "outputs": [],
   "source": [
    "class Solution:\n",
    "    def trap(self, height):\n",
    "        left = 0\n",
    "        right = len(height) - 1\n",
    "        left_max = height[left]\n",
    "        right_max = height[right]\n",
    "        water = 0\n",
    "\n",
    "        while left < right:\n",
    "            if left_max < right_max:\n",
    "                left += 1\n",
    "                left_max = max(left_max, height[left])\n",
    "                water += left_max - height[left]\n",
    "            else:\n",
    "                right -= 1\n",
    "                right_max = max(right_max, height[right])\n",
    "                water += right_max - height[right]\n",
    "        \n",
    "        return water"
   ]
  },
  {
   "cell_type": "code",
   "execution_count": 4,
   "id": "5031a795",
   "metadata": {},
   "outputs": [
    {
     "ename": "TypeError",
     "evalue": "object of type 'int' has no len()",
     "output_type": "error",
     "traceback": [
      "\u001b[1;31m---------------------------------------------------------------------------\u001b[0m",
      "\u001b[1;31mTypeError\u001b[0m                                 Traceback (most recent call last)",
      "\u001b[1;32m~\\AppData\\Local\\Temp\\ipykernel_4160\\3085607021.py\u001b[0m in \u001b[0;36m<module>\u001b[1;34m\u001b[0m\n\u001b[0;32m      1\u001b[0m \u001b[0ms\u001b[0m  \u001b[1;33m=\u001b[0m  \u001b[0mSolution\u001b[0m\u001b[1;33m(\u001b[0m\u001b[1;33m)\u001b[0m\u001b[1;33m\u001b[0m\u001b[1;33m\u001b[0m\u001b[0m\n\u001b[0;32m      2\u001b[0m \u001b[0mheight\u001b[0m \u001b[1;33m=\u001b[0m \u001b[1;36m6\u001b[0m\u001b[1;33m\u001b[0m\u001b[1;33m\u001b[0m\u001b[0m\n\u001b[1;32m----> 3\u001b[1;33m \u001b[0ms\u001b[0m\u001b[1;33m.\u001b[0m\u001b[0mtrap\u001b[0m\u001b[1;33m(\u001b[0m\u001b[0mheight\u001b[0m\u001b[1;33m)\u001b[0m\u001b[1;33m\u001b[0m\u001b[1;33m\u001b[0m\u001b[0m\n\u001b[0m\u001b[0;32m      4\u001b[0m \u001b[0mprint\u001b[0m\u001b[1;33m(\u001b[0m\u001b[0mheight\u001b[0m\u001b[1;33m)\u001b[0m\u001b[1;33m\u001b[0m\u001b[1;33m\u001b[0m\u001b[0m\n",
      "\u001b[1;32m~\\AppData\\Local\\Temp\\ipykernel_4160\\1391315534.py\u001b[0m in \u001b[0;36mtrap\u001b[1;34m(self, height)\u001b[0m\n\u001b[0;32m      2\u001b[0m     \u001b[1;32mdef\u001b[0m \u001b[0mtrap\u001b[0m\u001b[1;33m(\u001b[0m\u001b[0mself\u001b[0m\u001b[1;33m,\u001b[0m \u001b[0mheight\u001b[0m\u001b[1;33m)\u001b[0m\u001b[1;33m:\u001b[0m\u001b[1;33m\u001b[0m\u001b[1;33m\u001b[0m\u001b[0m\n\u001b[0;32m      3\u001b[0m         \u001b[0mleft\u001b[0m \u001b[1;33m=\u001b[0m \u001b[1;36m0\u001b[0m\u001b[1;33m\u001b[0m\u001b[1;33m\u001b[0m\u001b[0m\n\u001b[1;32m----> 4\u001b[1;33m         \u001b[0mright\u001b[0m \u001b[1;33m=\u001b[0m \u001b[0mlen\u001b[0m\u001b[1;33m(\u001b[0m\u001b[0mheight\u001b[0m\u001b[1;33m)\u001b[0m \u001b[1;33m-\u001b[0m \u001b[1;36m1\u001b[0m\u001b[1;33m\u001b[0m\u001b[1;33m\u001b[0m\u001b[0m\n\u001b[0m\u001b[0;32m      5\u001b[0m         \u001b[0mleft_max\u001b[0m \u001b[1;33m=\u001b[0m \u001b[0mheight\u001b[0m\u001b[1;33m[\u001b[0m\u001b[0mleft\u001b[0m\u001b[1;33m]\u001b[0m\u001b[1;33m\u001b[0m\u001b[1;33m\u001b[0m\u001b[0m\n\u001b[0;32m      6\u001b[0m         \u001b[0mright_max\u001b[0m \u001b[1;33m=\u001b[0m \u001b[0mheight\u001b[0m\u001b[1;33m[\u001b[0m\u001b[0mright\u001b[0m\u001b[1;33m]\u001b[0m\u001b[1;33m\u001b[0m\u001b[1;33m\u001b[0m\u001b[0m\n",
      "\u001b[1;31mTypeError\u001b[0m: object of type 'int' has no len()"
     ]
    }
   ],
   "source": [
    "s  =  Solution()\n",
    "height = 6\n",
    "s.trap(height)\n",
    "print(height)"
   ]
  },
  {
   "cell_type": "code",
   "execution_count": null,
   "id": "de05834d",
   "metadata": {},
   "outputs": [],
   "source": []
  }
 ],
 "metadata": {
  "finalized": {
   "timestamp": 1732032975573,
   "trusted": false
  },
  "kernelspec": {
   "display_name": "Python 3 (ipykernel)",
   "language": "python",
   "name": "python3"
  },
  "language_info": {
   "codemirror_mode": {
    "name": "ipython",
    "version": 3
   },
   "file_extension": ".py",
   "mimetype": "text/x-python",
   "name": "python",
   "nbconvert_exporter": "python",
   "pygments_lexer": "ipython3",
   "version": "3.9.13"
  }
 },
 "nbformat": 4,
 "nbformat_minor": 5
}
