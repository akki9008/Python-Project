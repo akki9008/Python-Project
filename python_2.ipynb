{
 "cells": [
  {
   "cell_type": "code",
   "execution_count": 1,
   "id": "e70afb3e",
   "metadata": {},
   "outputs": [
    {
     "name": "stdout",
     "output_type": "stream",
     "text": [
      "even_num = [2, 10]\n",
      "odd_num = [1]\n"
     ]
    }
   ],
   "source": [
    "array = [2, 10, 1, 8, 5]\n",
    "b = 8\n",
    "\n",
    "even_num = []\n",
    "odd_num = []\n",
    "\n",
    "for num in array:\n",
    "    if num == b:\n",
    "        break  # Stop processing when 'b' is encountered\n",
    "    if num % 2 == 0:\n",
    "        even_num.append(num)\n",
    "    else:\n",
    "        odd_num.append(num)\n",
    "\n",
    "print(\"even_num =\", even_num)\n",
    "print(\"odd_num =\", odd_num)"
   ]
  },
  {
   "cell_type": "code",
   "execution_count": 2,
   "id": "71a0e038",
   "metadata": {},
   "outputs": [
    {
     "name": "stdout",
     "output_type": "stream",
     "text": [
      "[2, 10]\n",
      "[1]\n"
     ]
    }
   ],
   "source": [
    "array = [2,10,1,8,5]\n",
    "b  = 8\n",
    "even_num = []\n",
    "odd_num = []\n",
    "for num in array:\n",
    "    if num == b:\n",
    "        break\n",
    "    if num %  2 == 0:\n",
    "        even_num.append(num)\n",
    "    else:\n",
    "        odd_num.append(num)\n",
    "print(even_num)\n",
    "print(odd_num)"
   ]
  },
  {
   "cell_type": "code",
   "execution_count": 4,
   "id": "8dc7b03b",
   "metadata": {},
   "outputs": [
    {
     "name": "stdout",
     "output_type": "stream",
     "text": [
      "True\n"
     ]
    }
   ],
   "source": [
    "def key_exits(d,key):\n",
    "    return key in d\n",
    "my_dict = {'a':1,'b':2}\n",
    "print(key_exits(my_dict,'a'))"
   ]
  },
  {
   "cell_type": "code",
   "execution_count": 5,
   "id": "998f2f63",
   "metadata": {},
   "outputs": [
    {
     "name": "stdout",
     "output_type": "stream",
     "text": [
      "{'a': 2, 'b': 2, 'bb': 1, 'c': 4}\n"
     ]
    }
   ],
   "source": [
    "list1 = ['a','a','b','bb','b','c','c','c','c'] \n",
    "seen  = {}\n",
    "for item in list1:\n",
    "    if item in seen:\n",
    "        seen[item] += 1\n",
    "    else:\n",
    "        seen[item] = 1\n",
    "print(seen)\n",
    "    "
   ]
  },
  {
   "cell_type": "code",
   "execution_count": 6,
   "id": "d94c1358",
   "metadata": {},
   "outputs": [
    {
     "name": "stdout",
     "output_type": "stream",
     "text": [
      "a is : 2 \n",
      "b is : 2 \n",
      "bb is : 1 \n",
      "c is : 4 \n"
     ]
    }
   ],
   "source": [
    "from collections import Counter\n",
    "l = ['a','a','b','bb','b','c','c','c','c'] \n",
    "output = Counter(l)\n",
    "for ele , val in output.items():\n",
    "    print(f\"{ele} is : {val} \")\n"
   ]
  },
  {
   "cell_type": "code",
   "execution_count": 7,
   "id": "238f1e81",
   "metadata": {},
   "outputs": [
    {
     "name": "stdout",
     "output_type": "stream",
     "text": [
      "[10, 20, 30]\n"
     ]
    }
   ],
   "source": [
    "def remove_duplicates(arr):\n",
    "    unique_elements = []\n",
    "    for item in arr:\n",
    "        if item not in unique_elements:\n",
    "            unique_elements.append(item)\n",
    "    return unique_elements\n",
    "\n",
    "arr = [10,10,10,20,10,30]\n",
    "print(remove_duplicates(arr))"
   ]
  },
  {
   "cell_type": "code",
   "execution_count": 10,
   "id": "edf9da62",
   "metadata": {},
   "outputs": [
    {
     "name": "stdout",
     "output_type": "stream",
     "text": [
      "1\n"
     ]
    }
   ],
   "source": [
    "def first_duplicate_value(arr):\n",
    "    result = {}\n",
    "    for num in arr:\n",
    "        return num\n",
    "    if num in result:\n",
    "        result[num] += 1\n",
    "    else:\n",
    "        result[num] = 1\n",
    "    return result.values()\n",
    "arr = [1,2,1,4,2]\n",
    "print(first_duplicate_value(arr))\n",
    "        \n",
    "            "
   ]
  },
  {
   "cell_type": "code",
   "execution_count": 11,
   "id": "f22cdcbc",
   "metadata": {},
   "outputs": [
    {
     "name": "stdout",
     "output_type": "stream",
     "text": [
      "[1, 2, 3, 4, 5, 6, 7, 8]\n"
     ]
    }
   ],
   "source": [
    "l = [1,[2,3,4],[5,6,7],8]\n",
    "result = []\n",
    "for num in l:\n",
    "    if type(num) == list:\n",
    "        for ele in num:\n",
    "            result.append(ele)\n",
    "    else:\n",
    "        result.append(num)\n",
    "print(result)"
   ]
  },
  {
   "cell_type": "code",
   "execution_count": 12,
   "id": "11482e8d",
   "metadata": {},
   "outputs": [
    {
     "name": "stdout",
     "output_type": "stream",
     "text": [
      "yahska\n"
     ]
    }
   ],
   "source": [
    "s = 'akshay'\n",
    "output = ''\n",
    "i = len(s) - 1\n",
    "while i >= 0:\n",
    "    output += s[i]\n",
    "    i = i - 1\n",
    "print(output)"
   ]
  },
  {
   "cell_type": "code",
   "execution_count": 18,
   "id": "86103aea",
   "metadata": {},
   "outputs": [
    {
     "name": "stdout",
     "output_type": "stream",
     "text": [
      "good is aksah\n"
     ]
    }
   ],
   "source": [
    "s = 'aksah is good'\n",
    "words = s.split()\n",
    "reverse_words = reversed(words)\n",
    "output = ' '.join(reverse_words)\n",
    "print(output)"
   ]
  },
  {
   "cell_type": "code",
   "execution_count": 19,
   "id": "9302b728",
   "metadata": {},
   "outputs": [
    {
     "name": "stdout",
     "output_type": "stream",
     "text": [
      "n:hello,a:hello,m:hello,e:hello\n"
     ]
    }
   ],
   "source": [
    "d = {\"name\": \"hello\"} \n",
    "\n",
    "x = [] \n",
    "\n",
    "for i in range(len(\"name\")): \n",
    "\n",
    "    for key, value in d.items(): \n",
    "\n",
    "        x.append(f\"{key[i]}:{value}\") \n",
    "\n",
    " \n",
    "\n",
    "result = \",\".join(x) \n",
    "\n",
    "print(result) "
   ]
  },
  {
   "cell_type": "code",
   "execution_count": 27,
   "id": "e836b164",
   "metadata": {},
   "outputs": [
    {
     "data": {
      "text/plain": [
       "'b'"
      ]
     },
     "execution_count": 27,
     "metadata": {},
     "output_type": "execute_result"
    }
   ],
   "source": [
    "l = [1,[1,2,4],[5,6],{1:'a',2:'b'}]\n",
    "output = l[3][2]\n",
    "output"
   ]
  },
  {
   "cell_type": "code",
   "execution_count": 29,
   "id": "df20eecc",
   "metadata": {},
   "outputs": [
    {
     "ename": "SyntaxError",
     "evalue": "positional argument follows keyword argument (3288758505.py, line 27)",
     "output_type": "error",
     "traceback": [
      "\u001b[1;36m  File \u001b[1;32m\"C:\\Users\\Dell\\AppData\\Local\\Temp\\ipykernel_17616\\3288758505.py\"\u001b[1;36m, line \u001b[1;32m27\u001b[0m\n\u001b[1;33m    'google_conn_id' : \"google_cloud_default\"\u001b[0m\n\u001b[1;37m                     ^\u001b[0m\n\u001b[1;31mSyntaxError\u001b[0m\u001b[1;31m:\u001b[0m positional argument follows keyword argument\n"
     ]
    }
   ],
   "source": [
    "from airflow.operators.dummy import DummyOperator\n",
    "from airflow.providers.google.cloud.operators.biquery import BigQueryInstanceJobOperator\n",
    "from datetime import datetime\n",
    "\n",
    "\n",
    "default_args = {\n",
    "    'owner' : 'airflow',\n",
    "    'start_date' : (2024,1,1),\n",
    "    'retries' : 1\n",
    "}\n",
    "\n",
    "with DAG ('dag1', schedule_interval = \"@daily\",default_args = default_args,catch_ip = False) as dag:\n",
    "    \n",
    "    start_task = DummyOperator(task_id = 'start_task',dag = dag)\n",
    "    run_query = BigQueryInstanceJobOperator(\n",
    "        task_id = 'bq_task',\n",
    "        configuration = {\n",
    "            'query' : {\n",
    "                'query' : query,\n",
    "                'ProjectId' : PROJECTID,\n",
    "                'datasetId'  : DATASETID,\n",
    "                'tableId' : TABLE,\n",
    "                'useLeagacySql' : False,\n",
    "                \n",
    "            }\n",
    "        },\n",
    "        'google_conn_id' : \"google_cloud_default\"\n",
    "    ) \n",
    "    end_task = DummyOperator(task_id = 'end_task',dag  = dag)\n",
    "    \n",
    "start_task >> run_query >> end_task\n",
    "\n",
    "\n",
    "\n",
    "    \n",
    "    "
   ]
  },
  {
   "cell_type": "code",
   "execution_count": 30,
   "id": "2cd14a5c",
   "metadata": {},
   "outputs": [
    {
     "ename": "ImportError",
     "evalue": "cannot import name 'bigq' from 'google.cloud' (unknown location)",
     "output_type": "error",
     "traceback": [
      "\u001b[1;31m---------------------------------------------------------------------------\u001b[0m",
      "\u001b[1;31mImportError\u001b[0m                               Traceback (most recent call last)",
      "\u001b[1;32m~\\AppData\\Local\\Temp\\ipykernel_17616\\2980194940.py\u001b[0m in \u001b[0;36m<module>\u001b[1;34m\u001b[0m\n\u001b[1;32m----> 1\u001b[1;33m \u001b[1;32mfrom\u001b[0m \u001b[0mgoogle\u001b[0m\u001b[1;33m.\u001b[0m\u001b[0mcloud\u001b[0m \u001b[1;32mimport\u001b[0m \u001b[0mbigq\u001b[0m\u001b[1;33m\u001b[0m\u001b[1;33m\u001b[0m\u001b[0m\n\u001b[0m",
      "\u001b[1;31mImportError\u001b[0m: cannot import name 'bigq' from 'google.cloud' (unknown location)"
     ]
    }
   ],
   "source": [
    "from google.cloud import bigq"
   ]
  },
  {
   "cell_type": "code",
   "execution_count": 31,
   "id": "01e16f2b",
   "metadata": {},
   "outputs": [
    {
     "ename": "ImportError",
     "evalue": "cannot import name 'bigquery' from 'google.cloud' (unknown location)",
     "output_type": "error",
     "traceback": [
      "\u001b[1;31m---------------------------------------------------------------------------\u001b[0m",
      "\u001b[1;31mImportError\u001b[0m                               Traceback (most recent call last)",
      "\u001b[1;32m~\\AppData\\Local\\Temp\\ipykernel_17616\\3780008635.py\u001b[0m in \u001b[0;36m<module>\u001b[1;34m\u001b[0m\n\u001b[1;32m----> 1\u001b[1;33m \u001b[1;32mfrom\u001b[0m \u001b[0mgoogle\u001b[0m\u001b[1;33m.\u001b[0m\u001b[0mcloud\u001b[0m \u001b[1;32mimport\u001b[0m \u001b[0mbigquery\u001b[0m\u001b[1;33m\u001b[0m\u001b[1;33m\u001b[0m\u001b[0m\n\u001b[0m\u001b[0;32m      2\u001b[0m \u001b[1;33m\u001b[0m\u001b[0m\n\u001b[0;32m      3\u001b[0m \u001b[0mclient\u001b[0m \u001b[1;33m=\u001b[0m \u001b[0mbigquery\u001b[0m\u001b[1;33m.\u001b[0m\u001b[0mClient\u001b[0m\u001b[1;33m(\u001b[0m\u001b[1;33m)\u001b[0m\u001b[1;33m\u001b[0m\u001b[1;33m\u001b[0m\u001b[0m\n\u001b[0;32m      4\u001b[0m \u001b[1;33m\u001b[0m\u001b[0m\n\u001b[0;32m      5\u001b[0m \u001b[0mproject_id\u001b[0m \u001b[1;33m=\u001b[0m \u001b[1;34m'dev-test-1'\u001b[0m\u001b[1;33m\u001b[0m\u001b[1;33m\u001b[0m\u001b[0m\n",
      "\u001b[1;31mImportError\u001b[0m: cannot import name 'bigquery' from 'google.cloud' (unknown location)"
     ]
    }
   ],
   "source": [
    "from google.cloud import bigquery\n",
    "\n",
    "client = bigquery.Client()\n",
    "\n",
    "project_id = 'dev-test-1'\n",
    "dataset_id = 'e-commerce'\n",
    "table = 'sale-2018'\n",
    "table_ref = f\"{project_id}.{dataset_id}.{table}\"\n",
    "\n",
    "file_path = \"\"\n",
    "\n",
    "job_config = bigquery.loadJobConfig(\n",
    "    source_format = bigquery.SourceFomrat.CSV,\n",
    "    skip_leading_rows = 1,\n",
    "    autodetect = True\n",
    ")\n",
    "\n",
    "with open(file_path,'rb') as file:\n",
    "    job = client.load_table_from_file(file,table_ref,job_config = job_config)\n",
    "job.result()\n",
    "print(f\"file {file_path} successfully load into {table_ref}\")\n",
    "\n",
    "      \n"
   ]
  },
  {
   "cell_type": "code",
   "execution_count": 32,
   "id": "39221e22",
   "metadata": {},
   "outputs": [
    {
     "ename": "ImportError",
     "evalue": "cannot import name 'bigquery' from 'google.cloud' (unknown location)",
     "output_type": "error",
     "traceback": [
      "\u001b[1;31m---------------------------------------------------------------------------\u001b[0m",
      "\u001b[1;31mImportError\u001b[0m                               Traceback (most recent call last)",
      "\u001b[1;32m~\\AppData\\Local\\Temp\\ipykernel_17616\\4260599305.py\u001b[0m in \u001b[0;36m<module>\u001b[1;34m\u001b[0m\n\u001b[1;32m----> 1\u001b[1;33m \u001b[1;32mfrom\u001b[0m \u001b[0mgoogle\u001b[0m\u001b[1;33m.\u001b[0m\u001b[0mcloud\u001b[0m \u001b[1;32mimport\u001b[0m \u001b[0mbigquery\u001b[0m\u001b[1;33m\u001b[0m\u001b[1;33m\u001b[0m\u001b[0m\n\u001b[0m\u001b[0;32m      2\u001b[0m \u001b[1;32mimport\u001b[0m \u001b[0mpandas\u001b[0m \u001b[1;32mas\u001b[0m \u001b[0mpd\u001b[0m\u001b[1;33m\u001b[0m\u001b[1;33m\u001b[0m\u001b[0m\n\u001b[0;32m      3\u001b[0m \u001b[1;33m\u001b[0m\u001b[0m\n\u001b[0;32m      4\u001b[0m \u001b[1;31m# Define BigQuery table details\u001b[0m\u001b[1;33m\u001b[0m\u001b[1;33m\u001b[0m\u001b[0m\n\u001b[0;32m      5\u001b[0m \u001b[0mproject_id\u001b[0m \u001b[1;33m=\u001b[0m \u001b[1;34m\"your-project-id\"\u001b[0m\u001b[1;33m\u001b[0m\u001b[1;33m\u001b[0m\u001b[0m\n",
      "\u001b[1;31mImportError\u001b[0m: cannot import name 'bigquery' from 'google.cloud' (unknown location)"
     ]
    }
   ],
   "source": [
    "from google.cloud import bigquery\n",
    "import pandas as pd\n",
    "\n",
    "# Define BigQuery table details\n",
    "project_id = \"your-project-id\"\n",
    "dataset_id = \"your_dataset\"\n",
    "table_id = \"your_table\"\n",
    "table_ref = f\"{dataset_id}.{table_id}\"  # Note: No need for project_id in this format\n",
    "\n",
    "# Define the file path\n",
    "file_path = \"path/to/local_file.csv\"\n",
    "\n",
    "# Read the CSV into a Pandas DataFrame\n",
    "df = pd.read_csv(file_path)\n",
    "\n",
    "# Load DataFrame into BigQuery\n",
    "df.to_gbq(destination_table=table_ref, \n",
    "          project_id=project_id, \n",
    "          if_exists=\"append\")  # Options: 'fail', 'replace', 'append'\n",
    "\n",
    "print(f\"File {file_path} loaded successfully into {table_ref}\")\n"
   ]
  },
  {
   "cell_type": "code",
   "execution_count": 44,
   "id": "1679f5e2",
   "metadata": {},
   "outputs": [
    {
     "name": "stdout",
     "output_type": "stream",
     "text": [
      "['n:hello', 'a:hello', 'm:hello', 'e:hello']\n"
     ]
    },
    {
     "ename": "NameError",
     "evalue": "name 'y' is not defined",
     "output_type": "error",
     "traceback": [
      "\u001b[1;31m---------------------------------------------------------------------------\u001b[0m",
      "\u001b[1;31mNameError\u001b[0m                                 Traceback (most recent call last)",
      "\u001b[1;32m~\\AppData\\Local\\Temp\\ipykernel_17616\\2196095103.py\u001b[0m in \u001b[0;36m<module>\u001b[1;34m\u001b[0m\n\u001b[0;32m     12\u001b[0m \u001b[0mlst\u001b[0m \u001b[1;33m=\u001b[0m \u001b[1;33m{\u001b[0m\u001b[1;34m'x'\u001b[0m\u001b[1;33m:\u001b[0m \u001b[1;33m[\u001b[0m\u001b[1;36m2\u001b[0m\u001b[1;33m,\u001b[0m\u001b[1;36m5\u001b[0m\u001b[1;33m,\u001b[0m\u001b[1;36m3\u001b[0m\u001b[1;33m,\u001b[0m\u001b[1;36m4\u001b[0m\u001b[1;33m,\u001b[0m\u001b[1;36m6\u001b[0m\u001b[1;33m]\u001b[0m\u001b[1;33m,\u001b[0m \u001b[1;34m'y'\u001b[0m \u001b[1;33m:\u001b[0m \u001b[1;33m[\u001b[0m\u001b[1;36m5\u001b[0m\u001b[1;33m,\u001b[0m\u001b[1;36m6\u001b[0m\u001b[1;33m,\u001b[0m\u001b[1;36m8\u001b[0m\u001b[1;33m,\u001b[0m\u001b[1;36m10\u001b[0m\u001b[1;33m]\u001b[0m\u001b[1;33m}\u001b[0m\u001b[1;33m\u001b[0m\u001b[1;33m\u001b[0m\u001b[0m\n\u001b[0;32m     13\u001b[0m \u001b[0mprint\u001b[0m\u001b[1;33m(\u001b[0m\u001b[0mx\u001b[0m\u001b[1;33m)\u001b[0m\u001b[1;33m\u001b[0m\u001b[1;33m\u001b[0m\u001b[0m\n\u001b[1;32m---> 14\u001b[1;33m \u001b[0mprint\u001b[0m\u001b[1;33m(\u001b[0m\u001b[0my\u001b[0m\u001b[1;33m)\u001b[0m\u001b[1;33m\u001b[0m\u001b[1;33m\u001b[0m\u001b[0m\n\u001b[0m",
      "\u001b[1;31mNameError\u001b[0m: name 'y' is not defined"
     ]
    }
   ],
   "source": [
    "def my_dict(lst,x,y):\n",
    "     num = []\n",
    "     for i in num:\n",
    "        if x > 3 :\n",
    "           num.append(x)\n",
    "        elif y > 3:\n",
    "           num.append(y)\n",
    "        else :\n",
    "           return \"Nothing\"\n",
    "     return x,y\n",
    "\n",
    "lst = {'x': [2,5,3,4,6], 'y' : [5,6,8,10]}\n",
    "print(x)\n",
    "print(y)"
   ]
  },
  {
   "cell_type": "code",
   "execution_count": 45,
   "id": "824f4bfb",
   "metadata": {},
   "outputs": [
    {
     "name": "stdout",
     "output_type": "stream",
     "text": [
      "x: 5\n",
      "x: 4\n",
      "x: 6\n",
      "y: 5\n",
      "y: 6\n"
     ]
    }
   ],
   "source": [
    "lst = {'x': [2, 5, 3, 4, 6], 'y': [5, 6, 8, 10]}\n",
    "\n",
    "# Print values from list 'x' that are in [4, 5, 6]\n",
    "for value in lst['x']:\n",
    "    if value in [4, 5, 6]:\n",
    "        print(f\"x: {value}\")\n",
    "\n",
    "# Print values from list 'y' that are in [5, 6]\n",
    "for value in lst['y']:\n",
    "    if value in [5, 6]:\n",
    "        print(f\"y: {value}\")"
   ]
  },
  {
   "cell_type": "code",
   "execution_count": null,
   "id": "efdabb4c",
   "metadata": {},
   "outputs": [],
   "source": [
    "l = [1,[2,3,4],[5,6],7]\n",
    "result = []\n",
    "for num in l:\n",
    "    if type(num) == list:\n",
    "        for ele in num:\n",
    "            result.append(ele)\n",
    "    else:\n",
    "        result.append(num)\n",
    "print(result)\n",
    "        \n",
    "    "
   ]
  },
  {
   "cell_type": "code",
   "execution_count": null,
   "id": "fbe4a004",
   "metadata": {},
   "outputs": [],
   "source": []
  }
 ],
 "metadata": {
  "kernelspec": {
   "display_name": "Python 3 (ipykernel)",
   "language": "python",
   "name": "python3"
  },
  "language_info": {
   "codemirror_mode": {
    "name": "ipython",
    "version": 3
   },
   "file_extension": ".py",
   "mimetype": "text/x-python",
   "name": "python",
   "nbconvert_exporter": "python",
   "pygments_lexer": "ipython3",
   "version": "3.9.13"
  }
 },
 "nbformat": 4,
 "nbformat_minor": 5
}
